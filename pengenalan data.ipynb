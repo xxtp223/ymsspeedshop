{
 "cells": [
  {
   "cell_type": "code",
   "execution_count": 1,
   "metadata": {},
   "outputs": [
    {
     "data": {
      "text/html": [
       "<div>\n",
       "<style scoped>\n",
       "    .dataframe tbody tr th:only-of-type {\n",
       "        vertical-align: middle;\n",
       "    }\n",
       "\n",
       "    .dataframe tbody tr th {\n",
       "        vertical-align: top;\n",
       "    }\n",
       "\n",
       "    .dataframe thead th {\n",
       "        text-align: right;\n",
       "    }\n",
       "</style>\n",
       "<table border=\"1\" class=\"dataframe\">\n",
       "  <thead>\n",
       "    <tr style=\"text-align: right;\">\n",
       "      <th></th>\n",
       "      <th>code_id</th>\n",
       "      <th>orderid</th>\n",
       "      <th>itemid</th>\n",
       "      <th>nama_pengguna</th>\n",
       "      <th>produk</th>\n",
       "      <th>review</th>\n",
       "      <th>rating</th>\n",
       "      <th>waktu_transaksi</th>\n",
       "    </tr>\n",
       "  </thead>\n",
       "  <tbody>\n",
       "    <tr>\n",
       "      <th>0</th>\n",
       "      <td>10141437712_1725446523_301414380</td>\n",
       "      <td>178793532297209</td>\n",
       "      <td>10141437712</td>\n",
       "      <td>sizzkaa</td>\n",
       "      <td>Tuas Paha Rem NUI Racing Project +Per atau Non...</td>\n",
       "      <td>NaN</td>\n",
       "      <td>5</td>\n",
       "      <td>2024-09-04 17:42:00</td>\n",
       "    </tr>\n",
       "    <tr>\n",
       "      <th>1</th>\n",
       "      <td>10141437712_1725449818_180417086</td>\n",
       "      <td>178955747242796</td>\n",
       "      <td>10141437712</td>\n",
       "      <td>djamaljem</td>\n",
       "      <td>Tuas Paha Rem NUI Racing Project +Per atau Non...</td>\n",
       "      <td>NaN</td>\n",
       "      <td>5</td>\n",
       "      <td>2024-09-04 18:36:00</td>\n",
       "    </tr>\n",
       "    <tr>\n",
       "      <th>2</th>\n",
       "      <td>10141437712_1725464602_235555145</td>\n",
       "      <td>177327407268874</td>\n",
       "      <td>10141437712</td>\n",
       "      <td>chn812</td>\n",
       "      <td>Tuas Paha Rem NUI Racing Project +Per atau Non...</td>\n",
       "      <td>NaN</td>\n",
       "      <td>5</td>\n",
       "      <td>2024-09-04 22:43:00</td>\n",
       "    </tr>\n",
       "    <tr>\n",
       "      <th>3</th>\n",
       "      <td>10141437712_1725537341_354795463</td>\n",
       "      <td>179041092217901</td>\n",
       "      <td>10141437712</td>\n",
       "      <td>ardiansyah_230900</td>\n",
       "      <td>Tuas Paha Rem NUI Racing Project +Per atau Non...</td>\n",
       "      <td>NaN</td>\n",
       "      <td>5</td>\n",
       "      <td>2024-09-05 18:55:00</td>\n",
       "    </tr>\n",
       "    <tr>\n",
       "      <th>4</th>\n",
       "      <td>10141437712_1725538794_701141224</td>\n",
       "      <td>179033176234979</td>\n",
       "      <td>10141437712</td>\n",
       "      <td>fransiscaadhelaayu</td>\n",
       "      <td>Tuas Paha Rem NUI Racing Project +Per atau Non...</td>\n",
       "      <td>NaN</td>\n",
       "      <td>5</td>\n",
       "      <td>2024-09-05 19:19:00</td>\n",
       "    </tr>\n",
       "  </tbody>\n",
       "</table>\n",
       "</div>"
      ],
      "text/plain": [
       "                            code_id          orderid       itemid  \\\n",
       "0  10141437712_1725446523_301414380  178793532297209  10141437712   \n",
       "1  10141437712_1725449818_180417086  178955747242796  10141437712   \n",
       "2  10141437712_1725464602_235555145  177327407268874  10141437712   \n",
       "3  10141437712_1725537341_354795463  179041092217901  10141437712   \n",
       "4  10141437712_1725538794_701141224  179033176234979  10141437712   \n",
       "\n",
       "        nama_pengguna                                             produk  \\\n",
       "0             sizzkaa  Tuas Paha Rem NUI Racing Project +Per atau Non...   \n",
       "1           djamaljem  Tuas Paha Rem NUI Racing Project +Per atau Non...   \n",
       "2              chn812  Tuas Paha Rem NUI Racing Project +Per atau Non...   \n",
       "3   ardiansyah_230900  Tuas Paha Rem NUI Racing Project +Per atau Non...   \n",
       "4  fransiscaadhelaayu  Tuas Paha Rem NUI Racing Project +Per atau Non...   \n",
       "\n",
       "  review  rating      waktu_transaksi  \n",
       "0    NaN       5  2024-09-04 17:42:00  \n",
       "1    NaN       5  2024-09-04 18:36:00  \n",
       "2    NaN       5  2024-09-04 22:43:00  \n",
       "3    NaN       5  2024-09-05 18:55:00  \n",
       "4    NaN       5  2024-09-05 19:19:00  "
      ]
     },
     "execution_count": 1,
     "metadata": {},
     "output_type": "execute_result"
    }
   ],
   "source": [
    "import pandas as pd\n",
    "\n",
    "# load data\n",
    "df = pd.read_csv('data/data_leads.csv')\n",
    "\n",
    "# memberikan ringkasan statistik dasar dari kolom-kolom numerik\n",
    "df_description = df.describe()\n",
    "\n",
    "# penambahan untuk memerika nilai yang hilang\n",
    "missing_values = df.isnull().sum()\n",
    "unique_counts = df.nunique()\n",
    "\n",
    "# menampilkan baris pertama yang ada pada dalam Dataframe\n",
    "df.head()"
   ]
  },
  {
   "cell_type": "code",
   "execution_count": 2,
   "metadata": {},
   "outputs": [
    {
     "name": "stdout",
     "output_type": "stream",
     "text": [
      "<class 'pandas.core.frame.DataFrame'>\n",
      "RangeIndex: 1105 entries, 0 to 1104\n",
      "Data columns (total 8 columns):\n",
      " #   Column           Non-Null Count  Dtype \n",
      "---  ------           --------------  ----- \n",
      " 0   code_id          1105 non-null   object\n",
      " 1   orderid          1105 non-null   int64 \n",
      " 2   itemid           1105 non-null   int64 \n",
      " 3   nama_pengguna    1105 non-null   object\n",
      " 4   produk           1105 non-null   object\n",
      " 5   review           145 non-null    object\n",
      " 6   rating           1105 non-null   int64 \n",
      " 7   waktu_transaksi  1105 non-null   object\n",
      "dtypes: int64(3), object(5)\n",
      "memory usage: 69.2+ KB\n"
     ]
    }
   ],
   "source": [
    "# mendapatkan informasi ringkasan dari Dataframe\n",
    "df.info()"
   ]
  },
  {
   "cell_type": "code",
   "execution_count": 3,
   "metadata": {},
   "outputs": [
    {
     "data": {
      "text/html": [
       "<div>\n",
       "<style scoped>\n",
       "    .dataframe tbody tr th:only-of-type {\n",
       "        vertical-align: middle;\n",
       "    }\n",
       "\n",
       "    .dataframe tbody tr th {\n",
       "        vertical-align: top;\n",
       "    }\n",
       "\n",
       "    .dataframe thead th {\n",
       "        text-align: right;\n",
       "    }\n",
       "</style>\n",
       "<table border=\"1\" class=\"dataframe\">\n",
       "  <thead>\n",
       "    <tr style=\"text-align: right;\">\n",
       "      <th></th>\n",
       "      <th>orderid</th>\n",
       "      <th>itemid</th>\n",
       "      <th>rating</th>\n",
       "    </tr>\n",
       "  </thead>\n",
       "  <tbody>\n",
       "    <tr>\n",
       "      <th>count</th>\n",
       "      <td>1.105000e+03</td>\n",
       "      <td>1.105000e+03</td>\n",
       "      <td>1105.000000</td>\n",
       "    </tr>\n",
       "    <tr>\n",
       "      <th>mean</th>\n",
       "      <td>1.786843e+14</td>\n",
       "      <td>2.054894e+10</td>\n",
       "      <td>4.816290</td>\n",
       "    </tr>\n",
       "    <tr>\n",
       "      <th>std</th>\n",
       "      <td>1.309404e+12</td>\n",
       "      <td>6.471202e+09</td>\n",
       "      <td>0.570808</td>\n",
       "    </tr>\n",
       "    <tr>\n",
       "      <th>min</th>\n",
       "      <td>1.680731e+14</td>\n",
       "      <td>2.671322e+09</td>\n",
       "      <td>1.000000</td>\n",
       "    </tr>\n",
       "    <tr>\n",
       "      <th>25%</th>\n",
       "      <td>1.788205e+14</td>\n",
       "      <td>1.808170e+10</td>\n",
       "      <td>5.000000</td>\n",
       "    </tr>\n",
       "    <tr>\n",
       "      <th>50%</th>\n",
       "      <td>1.789866e+14</td>\n",
       "      <td>2.244974e+10</td>\n",
       "      <td>5.000000</td>\n",
       "    </tr>\n",
       "    <tr>\n",
       "      <th>75%</th>\n",
       "      <td>1.791491e+14</td>\n",
       "      <td>2.511602e+10</td>\n",
       "      <td>5.000000</td>\n",
       "    </tr>\n",
       "    <tr>\n",
       "      <th>max</th>\n",
       "      <td>1.795751e+14</td>\n",
       "      <td>2.995067e+10</td>\n",
       "      <td>5.000000</td>\n",
       "    </tr>\n",
       "  </tbody>\n",
       "</table>\n",
       "</div>"
      ],
      "text/plain": [
       "            orderid        itemid       rating\n",
       "count  1.105000e+03  1.105000e+03  1105.000000\n",
       "mean   1.786843e+14  2.054894e+10     4.816290\n",
       "std    1.309404e+12  6.471202e+09     0.570808\n",
       "min    1.680731e+14  2.671322e+09     1.000000\n",
       "25%    1.788205e+14  1.808170e+10     5.000000\n",
       "50%    1.789866e+14  2.244974e+10     5.000000\n",
       "75%    1.791491e+14  2.511602e+10     5.000000\n",
       "max    1.795751e+14  2.995067e+10     5.000000"
      ]
     },
     "execution_count": 3,
     "metadata": {},
     "output_type": "execute_result"
    }
   ],
   "source": [
    "df_description"
   ]
  },
  {
   "cell_type": "code",
   "execution_count": 4,
   "metadata": {},
   "outputs": [
    {
     "data": {
      "text/plain": [
       "code_id              0\n",
       "orderid              0\n",
       "itemid               0\n",
       "nama_pengguna        0\n",
       "produk               0\n",
       "review             960\n",
       "rating               0\n",
       "waktu_transaksi      0\n",
       "dtype: int64"
      ]
     },
     "execution_count": 4,
     "metadata": {},
     "output_type": "execute_result"
    }
   ],
   "source": [
    "missing_values"
   ]
  },
  {
   "cell_type": "code",
   "execution_count": 5,
   "metadata": {},
   "outputs": [
    {
     "data": {
      "text/plain": [
       "code_id            1105\n",
       "orderid             736\n",
       "itemid              175\n",
       "nama_pengguna       690\n",
       "produk              180\n",
       "review              129\n",
       "rating                5\n",
       "waktu_transaksi     684\n",
       "dtype: int64"
      ]
     },
     "execution_count": 5,
     "metadata": {},
     "output_type": "execute_result"
    }
   ],
   "source": [
    "unique_counts"
   ]
  }
 ],
 "metadata": {
  "kernelspec": {
   "display_name": "Python 3",
   "language": "python",
   "name": "python3"
  },
  "language_info": {
   "codemirror_mode": {
    "name": "ipython",
    "version": 3
   },
   "file_extension": ".py",
   "mimetype": "text/x-python",
   "name": "python",
   "nbconvert_exporter": "python",
   "pygments_lexer": "ipython3",
   "version": "3.12.5"
  }
 },
 "nbformat": 4,
 "nbformat_minor": 2
}
